{
 "cells": [
  {
   "cell_type": "code",
   "execution_count": 1,
   "metadata": {},
   "outputs": [],
   "source": [
    "import os\n",
    "import pickle \n",
    "from datetime import datetime\n",
    "\n",
    "import numpy as np \n",
    "import pandas as pd \n",
    "# import matplotlib.pyplot as plt\n",
    "\n",
    "from ts2vec import TS2Vec\n",
    "import torch\n",
    "from torch import nn\n"
   ]
  },
  {
   "cell_type": "code",
   "execution_count": 2,
   "metadata": {},
   "outputs": [],
   "source": [
    "# Model traing parameters \n",
    "OUTPUT_DIMS = 320 \n",
    "TEMPORAL_UNIT = 2 \n",
    "BATCH_SIZE = 128\n",
    "N_EPOCHS = 2\n",
    "HIDDEN_DIMS = 64\n",
    "KERNEL_SIZE = 3\n",
    "SAVE_CHECK_POINT = False"
   ]
  },
  {
   "cell_type": "markdown",
   "metadata": {},
   "source": [
    "# 1. Model training (only for onnx testing)"
   ]
  },
  {
   "cell_type": "code",
   "execution_count": 3,
   "metadata": {},
   "outputs": [
    {
     "name": "stdout",
     "output_type": "stream",
     "text": [
      "(10, 900, 8) (10, 2)\n",
      "(4, 900, 8) (4, 2)\n"
     ]
    }
   ],
   "source": [
    "# load train data \n",
    "train_data_dir = \"/Users/fguo/cmt/ts2vec/sample_data/train_data_sample10.npy\"\n",
    "train_motion_names_dir = \"/Users/fguo/cmt/ts2vec/sample_data/train_motion_names_sample10.parquet\"\n",
    "train_data = np.load(train_data_dir)\n",
    "train_motion_names = pd.read_parquet(train_motion_names_dir)\n",
    "print(train_data.shape, train_motion_names.shape)\n",
    "\n",
    "# load val data \n",
    "val_data_dir = \"/Users/fguo/cmt/ts2vec/sample_data/val_data_sample4.npy\"\n",
    "val_motion_names_dir = \"/Users/fguo/cmt/ts2vec/sample_data/val_motion_names_sample4.parquet\"\n",
    "val_data = np.load(val_data_dir)\n",
    "val_motion_names = pd.read_parquet(val_motion_names_dir)\n",
    "print(val_data.shape, val_motion_names.shape)"
   ]
  },
  {
   "cell_type": "code",
   "execution_count": 4,
   "metadata": {},
   "outputs": [
    {
     "name": "stdout",
     "output_type": "stream",
     "text": [
      "Epoch #0: train loss=39.84284973144531\n",
      "Epoch #0: val loss=18.48442268371582\n",
      " \n",
      "Epoch #1: train loss=26.8051815032959\n",
      "Epoch #1: val loss=12.734784126281738\n",
      " \n"
     ]
    }
   ],
   "source": [
    "model = TS2Vec(\n",
    "    input_dims=train_data.shape[-1],\n",
    "    device='cpu', \n",
    "    output_dims=OUTPUT_DIMS,\n",
    "    hidden_dims=HIDDEN_DIMS, \n",
    "    temporal_unit=TEMPORAL_UNIT,\n",
    "    batch_size=BATCH_SIZE,\n",
    "    after_epoch_callback=None\n",
    ")\n",
    "loss_log = model.fit(\n",
    "    train_data,\n",
    "    val_data,\n",
    "    verbose=True, \n",
    "    n_epochs=N_EPOCHS, \n",
    "    )"
   ]
  },
  {
   "cell_type": "code",
   "execution_count": 5,
   "metadata": {},
   "outputs": [],
   "source": [
    "model.save(\"/Users/fguo/cmt/ts2vec/model_checkpoints/sample_model.pkl\")"
   ]
  },
  {
   "cell_type": "markdown",
   "metadata": {},
   "source": [
    "# 2. Load model & ONNX"
   ]
  },
  {
   "cell_type": "code",
   "execution_count": null,
   "metadata": {},
   "outputs": [],
   "source": [
    "# ts2vec model\n",
    "# model_run_id: 07406a4af7284df0b8d8f266509161e8\n",
    "# epoch: 18, model_18"
   ]
  },
  {
   "cell_type": "code",
   "execution_count": 3,
   "metadata": {},
   "outputs": [],
   "source": [
    "model = TS2Vec(\n",
    "    input_dims=8,\n",
    "    device='cpu', \n",
    "    output_dims=OUTPUT_DIMS,\n",
    "    hidden_dims=HIDDEN_DIMS, \n",
    "    temporal_unit=TEMPORAL_UNIT,\n",
    "    batch_size=BATCH_SIZE,\n",
    "    after_epoch_callback=None\n",
    ")\n",
    "\n",
    "model.load(\"/Users/fguo/cmt/ts2vec/model_checkpoints/model_18.pkl\")"
   ]
  },
  {
   "cell_type": "code",
   "execution_count": 4,
   "metadata": {},
   "outputs": [
    {
     "data": {
      "text/plain": [
       "AveragedModel(\n",
       "  (module): TSEncoder(\n",
       "    (input_fc): Linear(in_features=8, out_features=64, bias=True)\n",
       "    (feature_extractor): DilatedConvEncoder(\n",
       "      (net): Sequential(\n",
       "        (0): ConvBlock(\n",
       "          (conv1): SamePadConv(\n",
       "            (conv): Conv1d(64, 64, kernel_size=(3,), stride=(1,), padding=(1,))\n",
       "          )\n",
       "          (conv2): SamePadConv(\n",
       "            (conv): Conv1d(64, 64, kernel_size=(3,), stride=(1,), padding=(1,))\n",
       "          )\n",
       "        )\n",
       "        (1): ConvBlock(\n",
       "          (conv1): SamePadConv(\n",
       "            (conv): Conv1d(64, 64, kernel_size=(3,), stride=(1,), padding=(2,), dilation=(2,))\n",
       "          )\n",
       "          (conv2): SamePadConv(\n",
       "            (conv): Conv1d(64, 64, kernel_size=(3,), stride=(1,), padding=(2,), dilation=(2,))\n",
       "          )\n",
       "        )\n",
       "        (2): ConvBlock(\n",
       "          (conv1): SamePadConv(\n",
       "            (conv): Conv1d(64, 64, kernel_size=(3,), stride=(1,), padding=(4,), dilation=(4,))\n",
       "          )\n",
       "          (conv2): SamePadConv(\n",
       "            (conv): Conv1d(64, 64, kernel_size=(3,), stride=(1,), padding=(4,), dilation=(4,))\n",
       "          )\n",
       "        )\n",
       "        (3): ConvBlock(\n",
       "          (conv1): SamePadConv(\n",
       "            (conv): Conv1d(64, 64, kernel_size=(3,), stride=(1,), padding=(8,), dilation=(8,))\n",
       "          )\n",
       "          (conv2): SamePadConv(\n",
       "            (conv): Conv1d(64, 64, kernel_size=(3,), stride=(1,), padding=(8,), dilation=(8,))\n",
       "          )\n",
       "        )\n",
       "        (4): ConvBlock(\n",
       "          (conv1): SamePadConv(\n",
       "            (conv): Conv1d(64, 64, kernel_size=(3,), stride=(1,), padding=(16,), dilation=(16,))\n",
       "          )\n",
       "          (conv2): SamePadConv(\n",
       "            (conv): Conv1d(64, 64, kernel_size=(3,), stride=(1,), padding=(16,), dilation=(16,))\n",
       "          )\n",
       "        )\n",
       "        (5): ConvBlock(\n",
       "          (conv1): SamePadConv(\n",
       "            (conv): Conv1d(64, 64, kernel_size=(3,), stride=(1,), padding=(32,), dilation=(32,))\n",
       "          )\n",
       "          (conv2): SamePadConv(\n",
       "            (conv): Conv1d(64, 64, kernel_size=(3,), stride=(1,), padding=(32,), dilation=(32,))\n",
       "          )\n",
       "        )\n",
       "        (6): ConvBlock(\n",
       "          (conv1): SamePadConv(\n",
       "            (conv): Conv1d(64, 64, kernel_size=(3,), stride=(1,), padding=(64,), dilation=(64,))\n",
       "          )\n",
       "          (conv2): SamePadConv(\n",
       "            (conv): Conv1d(64, 64, kernel_size=(3,), stride=(1,), padding=(64,), dilation=(64,))\n",
       "          )\n",
       "        )\n",
       "        (7): ConvBlock(\n",
       "          (conv1): SamePadConv(\n",
       "            (conv): Conv1d(64, 64, kernel_size=(3,), stride=(1,), padding=(128,), dilation=(128,))\n",
       "          )\n",
       "          (conv2): SamePadConv(\n",
       "            (conv): Conv1d(64, 64, kernel_size=(3,), stride=(1,), padding=(128,), dilation=(128,))\n",
       "          )\n",
       "        )\n",
       "        (8): ConvBlock(\n",
       "          (conv1): SamePadConv(\n",
       "            (conv): Conv1d(64, 64, kernel_size=(3,), stride=(1,), padding=(256,), dilation=(256,))\n",
       "          )\n",
       "          (conv2): SamePadConv(\n",
       "            (conv): Conv1d(64, 64, kernel_size=(3,), stride=(1,), padding=(256,), dilation=(256,))\n",
       "          )\n",
       "        )\n",
       "        (9): ConvBlock(\n",
       "          (conv1): SamePadConv(\n",
       "            (conv): Conv1d(64, 64, kernel_size=(3,), stride=(1,), padding=(512,), dilation=(512,))\n",
       "          )\n",
       "          (conv2): SamePadConv(\n",
       "            (conv): Conv1d(64, 64, kernel_size=(3,), stride=(1,), padding=(512,), dilation=(512,))\n",
       "          )\n",
       "        )\n",
       "        (10): ConvBlock(\n",
       "          (conv1): SamePadConv(\n",
       "            (conv): Conv1d(64, 320, kernel_size=(3,), stride=(1,), padding=(1024,), dilation=(1024,))\n",
       "          )\n",
       "          (conv2): SamePadConv(\n",
       "            (conv): Conv1d(320, 320, kernel_size=(3,), stride=(1,), padding=(1024,), dilation=(1024,))\n",
       "          )\n",
       "          (projector): Conv1d(64, 320, kernel_size=(1,), stride=(1,))\n",
       "        )\n",
       "      )\n",
       "    )\n",
       "    (repr_dropout): Dropout(p=0.1, inplace=False)\n",
       "  )\n",
       ")"
      ]
     },
     "execution_count": 4,
     "metadata": {},
     "output_type": "execute_result"
    }
   ],
   "source": [
    "model.net.eval()"
   ]
  },
  {
   "cell_type": "code",
   "execution_count": 5,
   "metadata": {},
   "outputs": [
    {
     "data": {
      "text/plain": [
       "False"
      ]
     },
     "execution_count": 5,
     "metadata": {},
     "output_type": "execute_result"
    }
   ],
   "source": [
    "model.net.training"
   ]
  },
  {
   "cell_type": "code",
   "execution_count": 6,
   "metadata": {},
   "outputs": [
    {
     "name": "stderr",
     "output_type": "stream",
     "text": [
      "/Users/fguo/.pyenv/versions/3.10.13/envs/ts2vec_0/lib/python3.10/site-packages/torch/onnx/_internal/exporter.py:137: UserWarning: torch.onnx.dynamo_export only implements opset version 18 for now. If you need to use a different opset version, please register them with register_custom_op.\n",
      "  warnings.warn(\n"
     ]
    }
   ],
   "source": [
    "dummy_input = torch.randn(1, 1, 8, device=\"cpu\")\n",
    "onnx_program = torch.onnx.dynamo_export(model.net, dummy_input)\n",
    "onnx_program.save(\"/Users/fguo/cmt/ts2vec/model_checkpoints/model_18.onnx\")"
   ]
  },
  {
   "cell_type": "markdown",
   "metadata": {},
   "source": [
    "# 3. Load Onnx model and evaluation "
   ]
  },
  {
   "cell_type": "code",
   "execution_count": 7,
   "metadata": {},
   "outputs": [],
   "source": [
    "import onnxruntime as ort "
   ]
  },
  {
   "cell_type": "code",
   "execution_count": 8,
   "metadata": {},
   "outputs": [
    {
     "name": "stderr",
     "output_type": "stream",
     "text": [
      "\u001b[0;93m2024-03-28 09:06:52.501937 [W:onnxruntime:, graph.cc:3593 CleanUnusedInitializersAndNodeArgs] Removing initializer '_if_then_branch__inlfunc_aten_index_put_bool_tmp_7'. It is not used by any node and should be removed from the model.\u001b[m\n",
      "\u001b[0;93m2024-03-28 09:06:52.501953 [W:onnxruntime:, graph.cc:3593 CleanUnusedInitializersAndNodeArgs] Removing initializer '_inlfunc_aten_index_put_bool_cond_6'. It is not used by any node and should be removed from the model.\u001b[m\n",
      "\u001b[0;93m2024-03-28 09:06:52.501957 [W:onnxruntime:, graph.cc:3593 CleanUnusedInitializersAndNodeArgs] Removing initializer '_inlfunc_aten_index_put_bool_tmp_3'. It is not used by any node and should be removed from the model.\u001b[m\n",
      "\u001b[0;93m2024-03-28 09:06:52.501961 [W:onnxruntime:, graph.cc:3593 CleanUnusedInitializersAndNodeArgs] Removing initializer '_inlfunc_aten_index_put_bool_tmp_2'. It is not used by any node and should be removed from the model.\u001b[m\n",
      "\u001b[0;93m2024-03-28 09:06:52.501965 [W:onnxruntime:, graph.cc:3593 CleanUnusedInitializersAndNodeArgs] Removing initializer '_inlfunc_aten_index_put_bool_tmp_5'. It is not used by any node and should be removed from the model.\u001b[m\n",
      "\u001b[0;93m2024-03-28 09:06:52.501969 [W:onnxruntime:, graph.cc:3593 CleanUnusedInitializersAndNodeArgs] Removing initializer '_inlfunc_aten_index_put_bool_tmp_4'. It is not used by any node and should be removed from the model.\u001b[m\n",
      "\u001b[0;93m2024-03-28 09:06:52.501973 [W:onnxruntime:, graph.cc:3593 CleanUnusedInitializersAndNodeArgs] Removing initializer '_inlfunc_aten_index_put_bool_accumulate_as_bool'. It is not used by any node and should be removed from the model.\u001b[m\n",
      "\u001b[0;93m2024-03-28 09:06:52.501978 [W:onnxruntime:, graph.cc:3593 CleanUnusedInitializersAndNodeArgs] Removing initializer '_inlfunc_aten_index_put_bool_accumulate'. It is not used by any node and should be removed from the model.\u001b[m\n",
      "\u001b[0;93m2024-03-28 09:06:52.501989 [W:onnxruntime:, graph.cc:3593 CleanUnusedInitializersAndNodeArgs] Removing initializer '_if_then_branch__inlfunc_aten_index_put_bool_token_3_tmp_7'. It is not used by any node and should be removed from the model.\u001b[m\n",
      "\u001b[0;93m2024-03-28 09:06:52.501993 [W:onnxruntime:, graph.cc:3593 CleanUnusedInitializersAndNodeArgs] Removing initializer '_inlfunc_aten_index_put_bool_token_3_tmp_3'. It is not used by any node and should be removed from the model.\u001b[m\n",
      "\u001b[0;93m2024-03-28 09:06:52.501996 [W:onnxruntime:, graph.cc:3593 CleanUnusedInitializersAndNodeArgs] Removing initializer '_inlfunc_aten_index_put_bool_token_3_cond_6'. It is not used by any node and should be removed from the model.\u001b[m\n",
      "\u001b[0;93m2024-03-28 09:06:52.502000 [W:onnxruntime:, graph.cc:3593 CleanUnusedInitializersAndNodeArgs] Removing initializer '_inlfunc_aten_index_put_bool_token_3_tmp_2'. It is not used by any node and should be removed from the model.\u001b[m\n",
      "\u001b[0;93m2024-03-28 09:06:52.502003 [W:onnxruntime:, graph.cc:3593 CleanUnusedInitializersAndNodeArgs] Removing initializer '_inlfunc_aten_index_put_bool_token_3_tmp_4'. It is not used by any node and should be removed from the model.\u001b[m\n",
      "\u001b[0;93m2024-03-28 09:06:52.502006 [W:onnxruntime:, graph.cc:3593 CleanUnusedInitializersAndNodeArgs] Removing initializer '_inlfunc_aten_index_put_bool_token_3_tmp_5'. It is not used by any node and should be removed from the model.\u001b[m\n",
      "\u001b[0;93m2024-03-28 09:06:52.502009 [W:onnxruntime:, graph.cc:3593 CleanUnusedInitializersAndNodeArgs] Removing initializer '_inlfunc_aten_index_put_bool_token_3_accumulate_as_bool'. It is not used by any node and should be removed from the model.\u001b[m\n",
      "\u001b[0;93m2024-03-28 09:06:52.502012 [W:onnxruntime:, graph.cc:3593 CleanUnusedInitializersAndNodeArgs] Removing initializer '_inlfunc_aten_index_put_bool_token_3_accumulate'. It is not used by any node and should be removed from the model.\u001b[m\n"
     ]
    }
   ],
   "source": [
    "ort_session = ort.InferenceSession(\"/Users/fguo/cmt/ts2vec/model_checkpoints/model_18.onnx\")"
   ]
  },
  {
   "cell_type": "code",
   "execution_count": 9,
   "metadata": {},
   "outputs": [],
   "source": [
    "input_data = np.array([[[-0.5066, -0.0651, -0.1815, -0.8371, -0.5118, -0.0956, -0.2307, -0.4243]]]).astype(np.float32)"
   ]
  },
  {
   "cell_type": "code",
   "execution_count": 10,
   "metadata": {},
   "outputs": [],
   "source": [
    "torch_out = model.net(torch.from_numpy(input_data)).detach().numpy()\n",
    "\n",
    "input_name = ort_session.get_inputs()[0].name\n",
    "output_name = ort_session.get_outputs()[0].name\n",
    "outputs = ort_session.run([output_name], {input_name: input_data})\n",
    "ort_out = outputs[0]"
   ]
  },
  {
   "cell_type": "code",
   "execution_count": 11,
   "metadata": {},
   "outputs": [],
   "source": [
    "close_out = np.isclose(torch_out, ort_out)"
   ]
  },
  {
   "cell_type": "code",
   "execution_count": 12,
   "metadata": {},
   "outputs": [
    {
     "data": {
      "text/plain": [
       "array([-0.00075907, -0.0053235 , -0.00055186], dtype=float32)"
      ]
     },
     "execution_count": 12,
     "metadata": {},
     "output_type": "execute_result"
    }
   ],
   "source": [
    "torch_out[~close_out]"
   ]
  },
  {
   "cell_type": "code",
   "execution_count": 13,
   "metadata": {},
   "outputs": [
    {
     "data": {
      "text/plain": [
       "array([-0.00075901, -0.0053236 , -0.00055191], dtype=float32)"
      ]
     },
     "execution_count": 13,
     "metadata": {},
     "output_type": "execute_result"
    }
   ],
   "source": [
    "ort_out[~close_out]"
   ]
  },
  {
   "cell_type": "code",
   "execution_count": null,
   "metadata": {},
   "outputs": [],
   "source": []
  }
 ],
 "metadata": {
  "kernelspec": {
   "display_name": "ts2vec_0",
   "language": "python",
   "name": "python3"
  },
  "language_info": {
   "codemirror_mode": {
    "name": "ipython",
    "version": 3
   },
   "file_extension": ".py",
   "mimetype": "text/x-python",
   "name": "python",
   "nbconvert_exporter": "python",
   "pygments_lexer": "ipython3",
   "version": "3.10.13"
  }
 },
 "nbformat": 4,
 "nbformat_minor": 2
}
